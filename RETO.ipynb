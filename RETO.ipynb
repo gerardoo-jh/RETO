{
  "nbformat": 4,
  "nbformat_minor": 0,
  "metadata": {
    "colab": {
      "provenance": []
    },
    "kernelspec": {
      "name": "python3",
      "display_name": "Python 3"
    },
    "language_info": {
      "name": "python"
    }
  },
  "cells": [
    {
      "cell_type": "code",
      "source": [
        "import pandas as pd\n",
        "import numpy as np\n",
        "from sklearn.model_selection import train_test_split\n",
        "from sklearn.preprocessing import MinMaxScaler\n",
        "from tensorflow.keras.models import Sequential\n",
        "from tensorflow.keras.layers import Dense\n",
        "from tensorflow.keras.utils import to_categorical\n",
        "import matplotlib.pyplot as plt"
      ],
      "metadata": {
        "id": "GPcx5QAAO01Q"
      },
      "execution_count": 11,
      "outputs": []
    },
    {
      "cell_type": "code",
      "source": [
        "data = pd.read_csv('final.csv', encoding='utf-8')"
      ],
      "metadata": {
        "id": "u_Eh9xmoP8RS"
      },
      "execution_count": 15,
      "outputs": []
    },
    {
      "cell_type": "code",
      "source": [
        "data.info()"
      ],
      "metadata": {
        "colab": {
          "base_uri": "https://localhost:8080/"
        },
        "id": "fw8scWkpP9aF",
        "outputId": "078c546f-41ab-4cde-9fc8-e52d7045ca1b"
      },
      "execution_count": 16,
      "outputs": [
        {
          "output_type": "stream",
          "name": "stdout",
          "text": [
            "<class 'pandas.core.frame.DataFrame'>\n",
            "RangeIndex: 9240 entries, 0 to 9239\n",
            "Data columns (total 21 columns):\n",
            " #   Column               Non-Null Count  Dtype  \n",
            "---  ------               --------------  -----  \n",
            " 0   roberta_neg_Exp      9240 non-null   float64\n",
            " 1   roberta_neu_Exp      9240 non-null   float64\n",
            " 2   roberta_pos_Exp      9240 non-null   float64\n",
            " 3   roberta_neg_OSF      9240 non-null   float64\n",
            " 4   roberta_neu_OSF      9240 non-null   float64\n",
            " 5   roberta_pos_OSF      9240 non-null   float64\n",
            " 6   Satis_Bloque         9240 non-null   int64  \n",
            " 7   Satis_ODS            9240 non-null   int64  \n",
            " 8   Satis_Aporte         9240 non-null   int64  \n",
            " 9   Satis_Interaccion    9240 non-null   int64  \n",
            " 10  Satis_Herramientas   9240 non-null   int64  \n",
            " 11  Satis_Exp            9240 non-null   int64  \n",
            " 12  Satis_Liderazgo_OSF  9240 non-null   int64  \n",
            " 13  Satis_IT             9240 non-null   int64  \n",
            " 14  Retro_OSF            9240 non-null   int64  \n",
            " 15  Causa_Interesante    9240 non-null   int64  \n",
            " 16  Opp_Egoismo          9240 non-null   int64  \n",
            " 17  Nvl_Responsabilidad  9240 non-null   int64  \n",
            " 18  Respeto_Diversidad   9240 non-null   int64  \n",
            " 19  Promover_Soluciones  9240 non-null   int64  \n",
            " 20  OSF_encoded          9240 non-null   int64  \n",
            "dtypes: float64(6), int64(15)\n",
            "memory usage: 1.5 MB\n"
          ]
        }
      ]
    },
    {
      "cell_type": "code",
      "source": [
        "import pandas as pd\n",
        "\n",
        "\n",
        "\n",
        "# Preprocesamiento de los datos\n",
        "#data = data[['Satis_ODS', 'Satis_Aporte', 'Satis_Interaccion', 'Satis_Herramientas',\n",
        "#             'Satis_Liderazgo_OSF', 'Satis_IT', 'Retro_OSF', 'Causa_Interesante',\n",
        "#             'Opp_Egoismo', 'Nvl_Responsabilidad', 'Respeto_Diversidad',\n",
        " #            'Promover_Soluciones', 'Satis_Exp', 'roberta_neg_Exp', 'roberta_neu_Exp',\n",
        "  #           'roberta_pos_Exp', 'roberta_neg_OSF', 'roberta_neu_OSF', 'roberta_pos_OSF',\"OSF_encoded\"]]\n",
        "#data.dropna(inplace=True)\n",
        "\n",
        "# Remover valores fuera del rango esperado\n",
        "#data = data[(data['Satis_Exp'] >= 1) & (data['Satis_Exp'] <= 5)]\n",
        "\n",
        "# Dividir los datos en conjuntos de entrenamiento y prueba\n",
        "X = data[['Satis_ODS', 'Satis_Aporte', 'Satis_Interaccion', 'Satis_Herramientas',\n",
        "             'Satis_Liderazgo_OSF', 'Satis_IT', 'Retro_OSF', 'Causa_Interesante',\n",
        "             'Opp_Egoismo', 'Nvl_Responsabilidad', 'Respeto_Diversidad',\n",
        "             'Promover_Soluciones', 'roberta_neg_Exp', 'roberta_neu_Exp',\n",
        "             'roberta_pos_Exp', 'roberta_neg_OSF', 'roberta_neu_OSF', 'roberta_pos_OSF',\"OSF_encoded\"]]\n",
        "y = data['Satis_Exp']\n",
        "X_train, X_test, y_train, y_test = train_test_split(X, y, test_size=0.3, random_state=42)\n",
        "\n",
        "# Escalar los datos de entrada\n",
        "scaler = MinMaxScaler()\n",
        "X_train = scaler.fit_transform(X_train)\n",
        "X_test = scaler.transform(X_test)\n",
        "\n",
        "# Codificar las etiquetas en formato one-hot\n",
        "num_classes = 5\n",
        "y_train_onehot = to_categorical(y_train - 1, num_classes)\n",
        "y_test_onehot = to_categorical(y_test - 1, num_classes)\n",
        "\n",
        "# Definir la arquitectura del modelo\n",
        "model = Sequential()\n",
        "model.add(Dense(100, input_shape=(19,), activation='relu'))\n",
        "model.add(Dense(100, activation='relu'))\n",
        "model.add(Dense(num_classes, activation='softmax'))\n",
        "\n",
        "# Compilar el modelo\n",
        "model.compile(loss='categorical_crossentropy', optimizer='adam', metrics=['accuracy'])\n",
        "\n",
        "# Entrenar el modelo\n",
        "model.fit(X_train, y_train_onehot, validation_data=(X_test, y_test_onehot), epochs=25, batch_size=35)\n",
        "\n",
        "# Evaluar el modelo en los datos de prueba\n",
        "loss, accuracy = model.evaluate(X_test, y_test_onehot)\n",
        "print('Loss:', loss)\n",
        "print('Accuracy:', accuracy)\n"
      ],
      "metadata": {
        "colab": {
          "base_uri": "https://localhost:8080/"
        },
        "id": "xVzaihhKGg-o",
        "outputId": "eba842a3-e668-4e97-9465-adfae6b46231"
      },
      "execution_count": 20,
      "outputs": [
        {
          "output_type": "stream",
          "name": "stdout",
          "text": [
            "Epoch 1/25\n",
            "181/181 [==============================] - 2s 5ms/step - loss: 0.6233 - accuracy: 0.7338 - val_loss: 0.4597 - val_accuracy: 0.8346\n",
            "Epoch 2/25\n",
            "181/181 [==============================] - 0s 2ms/step - loss: 0.4253 - accuracy: 0.8338 - val_loss: 0.4243 - val_accuracy: 0.8424\n",
            "Epoch 3/25\n",
            "181/181 [==============================] - 0s 3ms/step - loss: 0.4128 - accuracy: 0.8438 - val_loss: 0.3945 - val_accuracy: 0.8446\n",
            "Epoch 4/25\n",
            "181/181 [==============================] - 0s 3ms/step - loss: 0.3944 - accuracy: 0.8448 - val_loss: 0.3915 - val_accuracy: 0.8435\n",
            "Epoch 5/25\n",
            "181/181 [==============================] - 0s 3ms/step - loss: 0.3930 - accuracy: 0.8437 - val_loss: 0.3849 - val_accuracy: 0.8491\n",
            "Epoch 6/25\n",
            "181/181 [==============================] - 0s 2ms/step - loss: 0.3901 - accuracy: 0.8454 - val_loss: 0.4034 - val_accuracy: 0.8380\n",
            "Epoch 7/25\n",
            "181/181 [==============================] - 0s 3ms/step - loss: 0.3886 - accuracy: 0.8473 - val_loss: 0.3804 - val_accuracy: 0.8479\n",
            "Epoch 8/25\n",
            "181/181 [==============================] - 0s 3ms/step - loss: 0.3824 - accuracy: 0.8505 - val_loss: 0.3782 - val_accuracy: 0.8502\n",
            "Epoch 9/25\n",
            "181/181 [==============================] - 0s 3ms/step - loss: 0.3813 - accuracy: 0.8484 - val_loss: 0.3789 - val_accuracy: 0.8491\n",
            "Epoch 10/25\n",
            "181/181 [==============================] - 0s 3ms/step - loss: 0.3785 - accuracy: 0.8484 - val_loss: 0.3741 - val_accuracy: 0.8476\n",
            "Epoch 11/25\n",
            "181/181 [==============================] - 0s 2ms/step - loss: 0.3769 - accuracy: 0.8525 - val_loss: 0.3724 - val_accuracy: 0.8498\n",
            "Epoch 12/25\n",
            "181/181 [==============================] - 1s 3ms/step - loss: 0.3752 - accuracy: 0.8524 - val_loss: 0.3706 - val_accuracy: 0.8479\n",
            "Epoch 13/25\n",
            "181/181 [==============================] - 0s 2ms/step - loss: 0.3744 - accuracy: 0.8544 - val_loss: 0.3867 - val_accuracy: 0.8446\n",
            "Epoch 14/25\n",
            "181/181 [==============================] - 0s 2ms/step - loss: 0.3684 - accuracy: 0.8565 - val_loss: 0.3706 - val_accuracy: 0.8505\n",
            "Epoch 15/25\n",
            "181/181 [==============================] - 0s 3ms/step - loss: 0.3681 - accuracy: 0.8543 - val_loss: 0.3901 - val_accuracy: 0.8468\n",
            "Epoch 16/25\n",
            "181/181 [==============================] - 0s 3ms/step - loss: 0.3703 - accuracy: 0.8530 - val_loss: 0.3728 - val_accuracy: 0.8498\n",
            "Epoch 17/25\n",
            "181/181 [==============================] - 0s 3ms/step - loss: 0.3643 - accuracy: 0.8532 - val_loss: 0.3640 - val_accuracy: 0.8524\n",
            "Epoch 18/25\n",
            "181/181 [==============================] - 0s 3ms/step - loss: 0.3663 - accuracy: 0.8576 - val_loss: 0.3662 - val_accuracy: 0.8539\n",
            "Epoch 19/25\n",
            "181/181 [==============================] - 0s 3ms/step - loss: 0.3618 - accuracy: 0.8587 - val_loss: 0.3689 - val_accuracy: 0.8509\n",
            "Epoch 20/25\n",
            "181/181 [==============================] - 0s 3ms/step - loss: 0.3594 - accuracy: 0.8600 - val_loss: 0.3699 - val_accuracy: 0.8498\n",
            "Epoch 21/25\n",
            "181/181 [==============================] - 0s 3ms/step - loss: 0.3618 - accuracy: 0.8592 - val_loss: 0.3893 - val_accuracy: 0.8428\n",
            "Epoch 22/25\n",
            "181/181 [==============================] - 0s 2ms/step - loss: 0.3562 - accuracy: 0.8603 - val_loss: 0.3649 - val_accuracy: 0.8505\n",
            "Epoch 23/25\n",
            "181/181 [==============================] - 1s 3ms/step - loss: 0.3580 - accuracy: 0.8617 - val_loss: 0.3972 - val_accuracy: 0.8476\n",
            "Epoch 24/25\n",
            "181/181 [==============================] - 1s 4ms/step - loss: 0.3588 - accuracy: 0.8597 - val_loss: 0.3707 - val_accuracy: 0.8520\n",
            "Epoch 25/25\n",
            "181/181 [==============================] - 1s 3ms/step - loss: 0.3558 - accuracy: 0.8624 - val_loss: 0.3692 - val_accuracy: 0.8498\n",
            "85/85 [==============================] - 0s 1ms/step - loss: 0.3692 - accuracy: 0.8498\n",
            "Loss: 0.369218111038208\n",
            "Accuracy: 0.8497965335845947\n"
          ]
        }
      ]
    }
  ]
}